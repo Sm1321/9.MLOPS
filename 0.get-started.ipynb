{
 "cells": [
  {
   "cell_type": "markdown",
   "id": "e55007e3",
   "metadata": {},
   "source": [
    "## MLFLOW Tracking Server"
   ]
  },
  {
   "cell_type": "code",
   "execution_count": 6,
   "id": "b0666832",
   "metadata": {},
   "outputs": [],
   "source": [
    "import mlflow"
   ]
  },
  {
   "cell_type": "code",
   "execution_count": 7,
   "id": "d625288a",
   "metadata": {},
   "outputs": [],
   "source": [
    "mlflow.set_tracking_uri(\"http://127.0.0.1:5000\")"
   ]
  },
  {
   "cell_type": "code",
   "execution_count": 8,
   "id": "b77f1c4b",
   "metadata": {},
   "outputs": [
    {
     "name": "stderr",
     "output_type": "stream",
     "text": [
      "2025/05/29 22:35:44 INFO mlflow.tracking.fluent: Experiment with name 'Check Local Host Connection' does not exist. Creating a new experiment.\n"
     ]
    },
    {
     "name": "stdout",
     "output_type": "stream",
     "text": [
      "🏃 View run charming-dog-608 at: http://127.0.0.1:5000/#/experiments/491559124530531935/runs/37cbfa4a9ebe486d92a6b33bdaeb7ce7\n",
      "🧪 View experiment at: http://127.0.0.1:5000/#/experiments/491559124530531935\n"
     ]
    }
   ],
   "source": [
    "mlflow.set_experiment(\"Check Local Host Connection\")\n",
    "\n",
    "\n",
    "#Logging the information\n",
    "with mlflow.start_run():\n",
    "    mlflow.log_metric(\"test\",1)\n",
    "    mlflow.log_metric(\"temp\",2)"
   ]
  },
  {
   "cell_type": "code",
   "execution_count": 11,
   "id": "04d2c5ef",
   "metadata": {},
   "outputs": [
    {
     "name": "stdout",
     "output_type": "stream",
     "text": [
      "🏃 View run flawless-shark-313 at: http://127.0.0.1:5000/#/experiments/491559124530531935/runs/fca465fdb0bc47f88da99405935a861b\n",
      "🧪 View experiment at: http://127.0.0.1:5000/#/experiments/491559124530531935\n"
     ]
    }
   ],
   "source": [
    "mlflow.set_experiment(\"Check Local Host Connection\")\n",
    "\n",
    "\n",
    "#Logging the information\n",
    "with mlflow.start_run():\n",
    "    mlflow.log_metric(\"test\",1)\n",
    "    mlflow.log_metric(\"temp\",2)"
   ]
  },
  {
   "cell_type": "code",
   "execution_count": null,
   "id": "9c06090a",
   "metadata": {},
   "outputs": [
    {
     "name": "stdout",
     "output_type": "stream",
     "text": [
      "🏃 View run gifted-steed-597 at: http://127.0.0.1:5000/#/experiments/491559124530531935/runs/1b4ddc6e6bf048ddb2d3fa276887e8fb\n",
      "🧪 View experiment at: http://127.0.0.1:5000/#/experiments/491559124530531935\n"
     ]
    }
   ],
   "source": [
    "mlflow.set_experiment(\"Check Local Host Connection\")\n",
    "\n",
    "\n",
    "\n",
    "#Logging the information\n",
    "with mlflow.start_run():\n",
    "    mlflow.log_metric(\"Test\",1)\n",
    "    mlflow.log_metric(\"Temp\",2)"
   ]
  }
 ],
 "metadata": {
  "kernelspec": {
   "display_name": "Python 3",
   "language": "python",
   "name": "python3"
  },
  "language_info": {
   "codemirror_mode": {
    "name": "ipython",
    "version": 3
   },
   "file_extension": ".py",
   "mimetype": "text/x-python",
   "name": "python",
   "nbconvert_exporter": "python",
   "pygments_lexer": "ipython3",
   "version": "3.10.16"
  }
 },
 "nbformat": 4,
 "nbformat_minor": 5
}
