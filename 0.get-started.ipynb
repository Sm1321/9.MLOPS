{
 "cells": [
  {
   "cell_type": "markdown",
   "id": "e55007e3",
   "metadata": {},
   "source": [
    "## MLFLOW Tracking Server"
   ]
  },
  {
   "cell_type": "code",
   "execution_count": 1,
   "id": "b0666832",
   "metadata": {},
   "outputs": [],
   "source": [
    "import mlflow"
   ]
  },
  {
   "cell_type": "code",
   "execution_count": 2,
   "id": "d625288a",
   "metadata": {},
   "outputs": [],
   "source": [
    "mlflow.set_tracking_uri(\"http://127.0.0.1:5000\")"
   ]
  },
  {
   "cell_type": "code",
   "execution_count": 3,
   "id": "b77f1c4b",
   "metadata": {},
   "outputs": [
    {
     "name": "stdout",
     "output_type": "stream",
     "text": [
      "🏃 View run dashing-bear-263 at: http://127.0.0.1:5000/#/experiments/592625896648376471/runs/52b10c0c779e4db0b90b330fd1056b2b\n",
      "🧪 View experiment at: http://127.0.0.1:5000/#/experiments/592625896648376471\n"
     ]
    }
   ],
   "source": [
    "mlflow.set_experiment(\"Check Local Host Connection\")\n",
    "\n",
    "\n",
    "#Logging the information\n",
    "with mlflow.start_run():\n",
    "    mlflow.log_metric(\"test\",1)\n",
    "    mlflow.log_metric(\"temp\",2)"
   ]
  },
  {
   "cell_type": "code",
   "execution_count": 4,
   "id": "04d2c5ef",
   "metadata": {},
   "outputs": [
    {
     "name": "stdout",
     "output_type": "stream",
     "text": [
      "🏃 View run agreeable-fox-679 at: http://127.0.0.1:5000/#/experiments/592625896648376471/runs/cbbeeb81e2044fc0b7ecfff597e66257\n",
      "🧪 View experiment at: http://127.0.0.1:5000/#/experiments/592625896648376471\n"
     ]
    }
   ],
   "source": [
    "mlflow.set_experiment(\"Check Local Host Connection\")\n",
    "\n",
    "\n",
    "#Logging the information\n",
    "with mlflow.start_run():\n",
    "    mlflow.log_metric(\"test\",1)\n",
    "    mlflow.log_metric(\"temp\",2)"
   ]
  },
  {
   "cell_type": "code",
   "execution_count": 5,
   "id": "9c06090a",
   "metadata": {},
   "outputs": [
    {
     "name": "stdout",
     "output_type": "stream",
     "text": [
      "🏃 View run rogue-crane-896 at: http://127.0.0.1:5000/#/experiments/592625896648376471/runs/9682ee3d35474902b40b408795c72f07\n",
      "🧪 View experiment at: http://127.0.0.1:5000/#/experiments/592625896648376471\n"
     ]
    }
   ],
   "source": [
    "mlflow.set_experiment(\"Check Local Host Connection\")\n",
    "\n",
    "\n",
    "#Logging the information\n",
    "with mlflow.start_run():\n",
    "    mlflow.log_metric(\"Test\",1)\n",
    "    mlflow.log_metric(\"Temp\",2)"
   ]
  }
 ],
 "metadata": {
  "kernelspec": {
   "display_name": "Python 3",
   "language": "python",
   "name": "python3"
  },
  "language_info": {
   "codemirror_mode": {
    "name": "ipython",
    "version": 3
   },
   "file_extension": ".py",
   "mimetype": "text/x-python",
   "name": "python",
   "nbconvert_exporter": "python",
   "pygments_lexer": "ipython3",
   "version": "3.10.16"
  }
 },
 "nbformat": 4,
 "nbformat_minor": 5
}
